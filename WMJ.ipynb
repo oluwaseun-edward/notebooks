{
 "cells": [
  {
   "cell_type": "code",
   "execution_count": 1,
   "metadata": {},
   "outputs": [],
   "source": [
    "import pandas as pd\n",
    "import numpy as np\n",
    "import seaborn as sns\n",
    "import matplotlib.pyplot as plt\n",
    "import matplotlib as mpl\n"
   ]
  },
  {
   "cell_type": "code",
   "execution_count": 2,
   "metadata": {},
   "outputs": [],
   "source": [
    "# Make global settings for the figures.\n",
    "mpl.rcParams['font.family'] = 'sans-serif'\n",
    "plt.rcParams['font.sans-serif'] = ['Arial']\n",
    "plt.rcParams[\"mathtext.default\"] = 'regular'\n",
    "mpl.rcParams['pdf.fonttype'] = 42\n",
    "# This is for using seaborn\n",
    "sns.set_theme(style=\"white\")\n",
    "sns.set_style('ticks')\n"
   ]
  },
  {
   "cell_type": "code",
   "execution_count": 3,
   "metadata": {},
   "outputs": [
    {
     "data": {
      "text/html": [
       "<div>\n",
       "<style scoped>\n",
       "    .dataframe tbody tr th:only-of-type {\n",
       "        vertical-align: middle;\n",
       "    }\n",
       "\n",
       "    .dataframe tbody tr th {\n",
       "        vertical-align: top;\n",
       "    }\n",
       "\n",
       "    .dataframe thead th {\n",
       "        text-align: right;\n",
       "    }\n",
       "</style>\n",
       "<table border=\"1\" class=\"dataframe\">\n",
       "  <thead>\n",
       "    <tr style=\"text-align: right;\">\n",
       "      <th></th>\n",
       "      <th>sample</th>\n",
       "      <th>sub-Stage</th>\n",
       "      <th>height</th>\n",
       "      <th>d13C</th>\n",
       "      <th>Hg</th>\n",
       "      <th>TOC</th>\n",
       "      <th>Al</th>\n",
       "      <th>Fe</th>\n",
       "      <th>Nd_t</th>\n",
       "      <th>Nd_2se</th>\n",
       "      <th>Sr</th>\n",
       "      <th>Sr_2se</th>\n",
       "      <th>Unnamed: 12</th>\n",
       "      <th>Mn</th>\n",
       "      <th>P</th>\n",
       "      <th>Mo</th>\n",
       "    </tr>\n",
       "  </thead>\n",
       "  <tbody>\n",
       "    <tr>\n",
       "      <th>0</th>\n",
       "      <td>WMJ 7C</td>\n",
       "      <td>middle Smithian</td>\n",
       "      <td>0.09</td>\n",
       "      <td>0.719940</td>\n",
       "      <td>0.2</td>\n",
       "      <td>NaN</td>\n",
       "      <td>NaN</td>\n",
       "      <td>NaN</td>\n",
       "      <td>-6.334899</td>\n",
       "      <td>0.241206</td>\n",
       "      <td>0.707835</td>\n",
       "      <td>0.000005</td>\n",
       "      <td>NaN</td>\n",
       "      <td>NaN</td>\n",
       "      <td>NaN</td>\n",
       "      <td>NaN</td>\n",
       "    </tr>\n",
       "    <tr>\n",
       "      <th>1</th>\n",
       "      <td>ISO 9</td>\n",
       "      <td>middle Smithian</td>\n",
       "      <td>0.25</td>\n",
       "      <td>0.590869</td>\n",
       "      <td>NaN</td>\n",
       "      <td>NaN</td>\n",
       "      <td>NaN</td>\n",
       "      <td>NaN</td>\n",
       "      <td>NaN</td>\n",
       "      <td>NaN</td>\n",
       "      <td>NaN</td>\n",
       "      <td>NaN</td>\n",
       "      <td>NaN</td>\n",
       "      <td>NaN</td>\n",
       "      <td>NaN</td>\n",
       "      <td>NaN</td>\n",
       "    </tr>\n",
       "    <tr>\n",
       "      <th>2</th>\n",
       "      <td>WMJ 8C</td>\n",
       "      <td>middle Smithian</td>\n",
       "      <td>0.40</td>\n",
       "      <td>-0.394212</td>\n",
       "      <td>0.3</td>\n",
       "      <td>0.013</td>\n",
       "      <td>0.011484</td>\n",
       "      <td>0.017227</td>\n",
       "      <td>NaN</td>\n",
       "      <td>NaN</td>\n",
       "      <td>0.707880</td>\n",
       "      <td>0.000032</td>\n",
       "      <td>NaN</td>\n",
       "      <td>162.3</td>\n",
       "      <td>0.097618</td>\n",
       "      <td>1.1</td>\n",
       "    </tr>\n",
       "  </tbody>\n",
       "</table>\n",
       "</div>"
      ],
      "text/plain": [
       "   sample        sub-Stage  height      d13C   Hg    TOC        Al        Fe  \\\n",
       "0  WMJ 7C  middle Smithian    0.09  0.719940  0.2    NaN       NaN       NaN   \n",
       "1   ISO 9  middle Smithian    0.25  0.590869  NaN    NaN       NaN       NaN   \n",
       "2  WMJ 8C  middle Smithian    0.40 -0.394212  0.3  0.013  0.011484  0.017227   \n",
       "\n",
       "       Nd_t    Nd_2se        Sr    Sr_2se  Unnamed: 12     Mn         P   Mo  \n",
       "0 -6.334899  0.241206  0.707835  0.000005          NaN    NaN       NaN  NaN  \n",
       "1       NaN       NaN       NaN       NaN          NaN    NaN       NaN  NaN  \n",
       "2       NaN       NaN  0.707880  0.000032          NaN  162.3  0.097618  1.1  "
      ]
     },
     "execution_count": 3,
     "metadata": {},
     "output_type": "execute_result"
    }
   ],
   "source": [
    "# import data into a pandas dataframe.\n",
    "wm = pd.read_excel(\"../manuscript_data.xlsx\", sheet_name=\"WMJ\")\n",
    "wm.head(3)\n"
   ]
  },
  {
   "cell_type": "code",
   "execution_count": 4,
   "metadata": {},
   "outputs": [],
   "source": [
    "height= wm['height']\n",
    "Hg =wm['Hg']\n",
    "TOC = wm[\"TOC\"]\n",
    "d13C = wm[\"d13C\"]\n",
    "Sr=wm.Sr\n",
    "Nd = wm.Nd_t"
   ]
  },
  {
   "cell_type": "code",
   "execution_count": 5,
   "metadata": {},
   "outputs": [
    {
     "name": "stderr",
     "output_type": "stream",
     "text": [
      "meta NOT subset; don't know how to subset; dropped\n",
      "meta NOT subset; don't know how to subset; dropped\n"
     ]
    },
    {
     "data": {
      "image/png": "[encoded data removed]",
      "text/plain": [
       "<Figure size 800x560 with 5 Axes>"
      ]
     },
     "metadata": {},
     "output_type": "display_data"
    }
   ],
   "source": [
    "# Create figure and subplots.\n",
    "fig, axes = plt.subplots(figsize=(8, 5.6),  # constrained_layout=True,\n",
    "                         ncols=5, nrows=1, sharey=True)\n",
    "ax0, ax1, ax2, ax3, ax4 = axes\n",
    "\n",
    "# remove the y-axis ticks and y-axis itself.\n",
    "sns.despine(left=True, right=True, top=True, bottom=False)\n",
    "plt.yticks([])\n",
    "plt.tight_layout()\n",
    "\n",
    "#define the variables needed to iterably make the figures.\n",
    "subs = ['d13C', 'Hg', 'TOC',\"Sr\", 'Nd_t']\n",
    "ax= [ax0, ax1, ax2, ax3, ax4]\n",
    "xlabels = [\"$\\delta^{13}C\\;(‰)$\", \"Hg (ppb)\", \"TOC (wt.%)\",\n",
    "           \"$^{87}Sr/^{86}Sr$\", \"$\\epsilon_{Nd(t)}$\"]\n",
    "err = [\"Sr_2se\", \"Nd_2se\"]\n",
    "err_subs = [Sr, Nd]\n",
    "ax_2 = [ax3, ax4]\n",
    "# make the subplots using a for loop.\n",
    "for ix, sub in enumerate(subs):\n",
    "    sns.scatterplot(data=wm, x=wm[sub], y=height, ax=ax[ix],\n",
    "                    color='black', legend=False, edgecolor='black',\n",
    "                    s=30,\n",
    "                    )\n",
    "    ax[ix].tick_params(labelsize=12)\n",
    "    ax[ix].set_xlabel(xlabels[ix], fontsize=12, c=\"black\", fontweight=\"bold\")\n",
    "# ax2.set_xticks([0, .1, .2])\n",
    "ax1.set_xticks([0, 2, 4])\n",
    "ax2.set_xticks([0, .05, .1])\n",
    "ax3.set_xticks([0.7076, 0.7078, 0.7080])\n",
    "ax4.set_xticks([-8, -7, -6])\n",
    "\n",
    "\n",
    "# change orientation of the x-axis labels on the Sr isotope plot\n",
    "for tick in ax3.get_xticklabels():\n",
    "    tick.set_rotation(45)\n",
    "\n",
    "# ax3.set_xticklabels(ax.get_xticks(), rotation=50)\n",
    "# add error bars to Nd and Sr-isotope subplots\n",
    "for ix, sub in enumerate(err):\n",
    "    ax_2[ix].errorbar(xerr=wm[sub], y=height,x=err_subs[ix], ecolor=\"black\", color=\"black\",\n",
    "             linestyle='none', elinewidth=0.7, capthick=0.5, mec='black')\n",
    "       \n",
    "plt.savefig(\"../plots/WMJ_all.pdf\", dpi=600)"
   ]
  }
 ],
 "metadata": {
  "kernelspec": {
   "display_name": "base",
   "language": "python",
   "name": "python3"
  },
  "language_info": {
   "codemirror_mode": {
    "name": "ipython",
    "version": 3
   },
   "file_extension": ".py",
   "mimetype": "text/x-python",
   "name": "python",
   "nbconvert_exporter": "python",
   "pygments_lexer": "ipython3",
   "version": "3.9.16"
  },
  "orig_nbformat": 4,
  "vscode": {
   "interpreter": {
    "hash": "73a6cb75fa7d3153665b588525f8b31ea176e9a7bdb5699ea70f5f62658ab616"
   }
  }
 },
 "nbformat": 4,
 "nbformat_minor": 2
}
